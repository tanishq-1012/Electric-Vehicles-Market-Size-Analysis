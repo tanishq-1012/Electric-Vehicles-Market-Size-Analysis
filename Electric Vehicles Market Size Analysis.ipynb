{
 "cells": [
  {
   "cell_type": "markdown",
   "id": "00f7e11b-9fa5-45a4-9c3b-e7c9314b8eb9",
   "metadata": {},
   "source": [
    "Electric Vehicles Market Size Analysis"
   ]
  },
  {
   "cell_type": "code",
   "execution_count": null,
   "id": "f5d8ea58-eade-4d54-87dc-a8d7882b4d84",
   "metadata": {},
   "outputs": [],
   "source": [
    "import pandas as pd\n",
    "\n",
    "ev_data = pd .read_csv(r\"/Users/tanishqsharma/Desktop/Python Projects/Electric Vehicles Market Size Analysis/Electric_Vehicle_Population_Data.csv\")\n",
    "\n",
    "print(ev_data.head())"
   ]
  },
  {
   "cell_type": "code",
   "execution_count": null,
   "id": "a7792e02-478a-4fc9-9d27-debbb1546949",
   "metadata": {},
   "outputs": [],
   "source": [
    "ev_data.info()"
   ]
  },
  {
   "cell_type": "code",
   "execution_count": null,
   "id": "d482cb9d-c00b-4dad-98c6-482804908124",
   "metadata": {},
   "outputs": [],
   "source": [
    "ev_data.isnull().sum()"
   ]
  },
  {
   "cell_type": "code",
   "execution_count": null,
   "id": "464c6fbb-0f69-4c16-85f2-058dbb6bb0cc",
   "metadata": {},
   "outputs": [],
   "source": [
    "ev_data = ev_data.dropna()"
   ]
  },
  {
   "cell_type": "code",
   "execution_count": null,
   "id": "f9c4597f-1c14-4188-8967-39f7ec08bec8",
   "metadata": {},
   "outputs": [],
   "source": [
    "import matplotlib.pyplot as plt\n",
    "import seaborn as sns\n",
    "sns.set_style(\"whitegrid\")\n",
    "\n",
    "# EV Adoption Over Time\n",
    "plt.figure(figsize=(12, 6))\n",
    "ev_adoption_by_year = ev_data['Model Year'].value_counts().sort_index()\n",
    "sns.barplot(x=ev_adoption_by_year.index, y=ev_adoption_by_year.values, palette=\"viridis\")\n",
    "plt.title('EV Adoption Over Time')\n",
    "plt.xlabel('Model Year')\n",
    "plt.ylabel('Number of Vehicles Registered')\n",
    "plt.xticks(rotation=45)\n",
    "plt.tight_layout()\n",
    "plt.show()"
   ]
  },
  {
   "cell_type": "code",
   "execution_count": null,
   "id": "89738ae0-ef7d-4d78-a912-9f60de43e6b1",
   "metadata": {},
   "outputs": [],
   "source": [
    "# geographical distribution at county level\n",
    "ev_county_distribution = ev_data['County'].value_counts()\n",
    "top_counties = ev_county_distribution.head(3).index\n",
    "\n",
    "# filtering the dataset for these top counties\n",
    "top_counties_data = ev_data[ev_data['County'].isin(top_counties)]\n",
    "\n",
    "# analyzing the distribution of EVs within the cities of these top counties\n",
    "ev_city_distribution_top_counties = top_counties_data.groupby(['County', 'City']).size().sort_values(ascending=False).reset_index(name='Number of Vehicles')\n",
    "\n",
    "# visualize the top 10 cities across these counties\n",
    "top_cities = ev_city_distribution_top_counties.head(10)\n",
    "\n",
    "plt.figure(figsize=(6, 6))\n",
    "sns.barplot(x='Number of Vehicles', y='City', hue='County', data=top_cities, palette=\"magma\")\n",
    "plt.title('Top Cities in Top Counties by EV Registrations')\n",
    "plt.xlabel('Number of Vehicles Registered')\n",
    "plt.ylabel('City')\n",
    "plt.legend(title='County')\n",
    "plt.tight_layout()\n",
    "plt.show()"
   ]
  },
  {
   "cell_type": "code",
   "execution_count": null,
   "id": "bd14b966-305a-41cb-b770-2ab1a31215a5",
   "metadata": {},
   "outputs": [],
   "source": [
    "# analyzing the distribution of electric vehicle Types\n",
    "ev_type_distribution = ev_data['Electric Vehicle Type'].value_counts()\n",
    "\n",
    "plt.figure(figsize=(10, 6))\n",
    "sns.barplot(x=ev_type_distribution.values, y=ev_type_distribution.index, palette=\"rocket\")\n",
    "plt.title('Distribution of Electric Vehicle Types')\n",
    "plt.xlabel('Number of Vehicles Registered')\n",
    "plt.ylabel('Electric Vehicle Type')\n",
    "plt.tight_layout()\n",
    "plt.show()"
   ]
  },
  {
   "cell_type": "code",
   "execution_count": null,
   "id": "301e7cee-f096-4d07-b043-222dd6087058",
   "metadata": {},
   "outputs": [],
   "source": [
    "# analyzing the popularity of EV manufacturers\n",
    "ev_make_distribution = ev_data['Make'].value_counts().head(10)  # Limiting to top 10 for clarity\n",
    "\n",
    "plt.figure(figsize=(12, 6))\n",
    "sns.barplot(x=ev_make_distribution.values, y=ev_make_distribution.index, palette=\"cubehelix\")\n",
    "plt.title('Top 10 Popular EV Makes')\n",
    "plt.xlabel('Number of Vehicles Registered')\n",
    "plt.ylabel('Make')\n",
    "plt.tight_layout()\n",
    "plt.show()"
   ]
  },
  {
   "cell_type": "code",
   "execution_count": null,
   "id": "46a142d6-90a4-4c39-9922-3a218a24e1ba",
   "metadata": {},
   "outputs": [],
   "source": [
    "# selecting the top 3 manufacturers based on the number of vehicles registered\n",
    "top_3_makes = ev_make_distribution.head(3).index\n",
    "\n",
    "# filtering the dataset for these top manufacturers\n",
    "top_makes_data = ev_data[ev_data['Make'].isin(top_3_makes)]\n",
    "\n",
    "# analyzing the popularity of EV models within these top manufacturers\n",
    "ev_model_distribution_top_makes = top_makes_data.groupby(['Make', 'Model']).size().sort_values(ascending=False).reset_index(name='Number of Vehicles')\n",
    "\n",
    "# visualizing the top 10 models across these manufacturers for clarity\n",
    "top_models = ev_model_distribution_top_makes.head(10)\n",
    "\n",
    "plt.figure(figsize=(6, 6))\n",
    "sns.barplot(x='Number of Vehicles', y='Model', hue='Make', data=top_models, palette=\"viridis\")\n",
    "plt.title('Top Models in Top 3 Makes by EV Registrations')\n",
    "plt.xlabel('Number of Vehicles Registered')\n",
    "plt.ylabel('Model')\n",
    "plt.legend(title='Make', loc='center right')\n",
    "plt.tight_layout()\n",
    "plt.show()"
   ]
  },
  {
   "cell_type": "code",
   "execution_count": null,
   "id": "70d7d364-2a3b-4218-b013-3d4aeee01426",
   "metadata": {},
   "outputs": [],
   "source": [
    "# analyzing the distribution of electric range\n",
    "plt.figure(figsize=(12, 6))\n",
    "sns.histplot(ev_data['Electric Range'], bins=30, kde=True, color='royalblue')\n",
    "plt.title('Distribution of Electric Vehicle Ranges')\n",
    "plt.xlabel('Electric Range (miles)')\n",
    "plt.ylabel('Number of Vehicles')\n",
    "plt.axvline(ev_data['Electric Range'].mean(), color='red', linestyle='--', label=f'Mean Range: {ev_data[\"Electric Range\"].mean():.2f} miles')\n",
    "plt.legend()\n",
    "plt.show()"
   ]
  },
  {
   "cell_type": "code",
   "execution_count": null,
   "id": "fef4f10c-dfd0-4d4c-a056-13768bbd1fc6",
   "metadata": {},
   "outputs": [],
   "source": [
    "# calculating the average electric range by model year\n",
    "average_range_by_year = ev_data.groupby('Model Year')['Electric Range'].mean().reset_index()\n",
    "\n",
    "plt.figure(figsize=(12, 6))\n",
    "sns.lineplot(x='Model Year', y='Electric Range', data=average_range_by_year, marker='o', color='green')\n",
    "plt.title('Average Electric Range by Model Year')\n",
    "plt.xlabel('Model Year')\n",
    "plt.ylabel('Average Electric Range (miles)')\n",
    "plt.grid(True)\n",
    "plt.show()"
   ]
  },
  {
   "cell_type": "code",
   "execution_count": null,
   "id": "d6ee512a-3cd9-4e6c-9284-c08045dc4f59",
   "metadata": {},
   "outputs": [],
   "source": [
    "average_range_by_model = top_makes_data.groupby(['Make', 'Model'])['Electric Range'].mean().sort_values(ascending=False).reset_index()\n",
    "\n",
    "# the top 10 models with the highest average electric range\n",
    "top_range_models = average_range_by_model.head(10)\n",
    "\n",
    "plt.figure(figsize=(8, 6))\n",
    "barplot = sns.barplot(x='Electric Range', y='Model', hue='Make', data=top_range_models, palette=\"cool\")\n",
    "plt.title('Top 10 Models by Average Electric Range in Top Makes')\n",
    "plt.xlabel('Average Electric Range (miles)')\n",
    "plt.ylabel('Model')\n",
    "plt.legend(title='Make', loc='center right')\n",
    "plt.show()"
   ]
  },
  {
   "cell_type": "code",
   "execution_count": null,
   "id": "4613e199-7de2-44ea-952d-76d0b7a0aaaf",
   "metadata": {},
   "outputs": [],
   "source": [
    "# calculate the number of EVs registered each year\n",
    "ev_registration_counts = ev_data['Model Year'].value_counts().sort_index()\n",
    "ev_registration_counts"
   ]
  },
  {
   "cell_type": "code",
   "execution_count": null,
   "id": "b1b1bc8c-ac27-4ac6-a949-465766f0007d",
   "metadata": {},
   "outputs": [],
   "source": [
    "from scipy.optimize import curve_fit\n",
    "import numpy as np\n",
    "\n",
    "# filter the dataset to include years with complete data, assuming 2023 is the last complete year\n",
    "filtered_years = ev_registration_counts[ev_registration_counts.index <= 2023]\n",
    "\n",
    "# define a function for exponential growth to fit the data\n",
    "def exp_growth(x, a, b):\n",
    "    return a * np.exp(b * x)\n",
    "\n",
    "# prepare the data for curve fitting\n",
    "x_data = filtered_years.index - filtered_years.index.min()\n",
    "y_data = filtered_years.values\n",
    "\n",
    "# fit the data to the exponential growth function\n",
    "params, covariance = curve_fit(exp_growth, x_data, y_data)\n",
    "\n",
    "# use the fitted function to forecast the number of EVs for 2024 and the next five years\n",
    "forecast_years = np.arange(2024, 2024 + 6) - filtered_years.index.min()\n",
    "forecasted_values = exp_growth(forecast_years, *params)\n",
    "\n",
    "# create a dictionary to display the forecasted values for easier interpretation\n",
    "forecasted_evs = dict(zip(forecast_years + filtered_years.index.min(), forecasted_values))\n",
    "\n",
    "print(forecasted_evs)"
   ]
  },
  {
   "cell_type": "code",
   "execution_count": null,
   "id": "3702d572-afb4-4b43-ab20-d495d3a8e9b5",
   "metadata": {},
   "outputs": [],
   "source": [
    "# prepare data for plotting\n",
    "years = np.arange(filtered_years.index.min(), 2029 + 1)\n",
    "actual_years = filtered_years.index\n",
    "forecast_years_full = np.arange(2024, 2029 + 1)\n",
    "\n",
    "# actual and forecasted values\n",
    "actual_values = filtered_years.values\n",
    "forecasted_values_full = [forecasted_evs[year] for year in forecast_years_full]\n",
    "\n",
    "plt.figure(figsize=(10, 6))\n",
    "plt.plot(actual_years, actual_values, 'bo-', label='Actual Registrations')\n",
    "plt.plot(forecast_years_full, forecasted_values_full, 'ro--', label='Forecasted Registrations')\n",
    "\n",
    "plt.title('Current & Estimated EV Market')\n",
    "plt.xlabel('Year')\n",
    "plt.ylabel('Number of EV Registrations')\n",
    "plt.legend()\n",
    "plt.grid(True)\n",
    "\n",
    "plt.show()"
   ]
  },
  {
   "cell_type": "code",
   "execution_count": null,
   "id": "519f786c-bee3-4ce8-8ee3-b76ef06705f5",
   "metadata": {},
   "outputs": [],
   "source": []
  }
 ],
 "metadata": {
  "kernelspec": {
   "display_name": "Python 3 (ipykernel)",
   "language": "python",
   "name": "python3"
  },
  "language_info": {
   "codemirror_mode": {
    "name": "ipython",
    "version": 3
   },
   "file_extension": ".py",
   "mimetype": "text/x-python",
   "name": "python",
   "nbconvert_exporter": "python",
   "pygments_lexer": "ipython3",
   "version": "3.13.0"
  }
 },
 "nbformat": 4,
 "nbformat_minor": 5
}
